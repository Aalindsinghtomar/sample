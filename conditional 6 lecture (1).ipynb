{
 "cells": [
  {
   "cell_type": "code",
   "execution_count": 1,
   "id": "67194c39-e537-4f1c-a019-2be15682b5eb",
   "metadata": {},
   "outputs": [],
   "source": [
    "#type casting >> implicit and explicit\n"
   ]
  },
  {
   "cell_type": "code",
   "execution_count": 2,
   "id": "a3507fe1-2c77-4105-b9b5-b7e315af215d",
   "metadata": {},
   "outputs": [],
   "source": [
    "#conditional _ if weather is sunny: I will go to play cricket"
   ]
  },
  {
   "cell_type": "code",
   "execution_count": 3,
   "id": "dd735b69-31e3-457f-b9a5-85bdcabd4371",
   "metadata": {},
   "outputs": [],
   "source": [
    "#if statment\n",
    "#syntax\n",
    "#if condition true:\n",
    "#     block of code willbe executed"
   ]
  },
  {
   "cell_type": "code",
   "execution_count": 7,
   "id": "28b6ca85-f21e-407a-86ee-d5e94b1fc8d5",
   "metadata": {},
   "outputs": [
    {
     "data": {
      "text/plain": [
       "False"
      ]
     },
     "execution_count": 7,
     "metadata": {},
     "output_type": "execute_result"
    }
   ],
   "source": [
    "3>4 "
   ]
  },
  {
   "cell_type": "code",
   "execution_count": 8,
   "id": "40ee68a5-6ba4-4b1d-b082-aa4403bd0ffa",
   "metadata": {},
   "outputs": [
    {
     "data": {
      "text/plain": [
       "True"
      ]
     },
     "execution_count": 8,
     "metadata": {},
     "output_type": "execute_result"
    }
   ],
   "source": [
    "1<2"
   ]
  },
  {
   "cell_type": "code",
   "execution_count": 10,
   "id": "a48c5d9e-a6e5-452c-9586-d917bad0e8c2",
   "metadata": {},
   "outputs": [
    {
     "name": "stdout",
     "output_type": "stream",
     "text": [
      "the number is greater then 0\n"
     ]
    }
   ],
   "source": [
    "a = 100\n",
    "if a>0:\n",
    "    print (\"the number is greater then 0\")"
   ]
  },
  {
   "cell_type": "code",
   "execution_count": 11,
   "id": "70c94967-cafe-400a-97e1-6d454de87515",
   "metadata": {},
   "outputs": [],
   "source": [
    "#If the statement will be true the next block will start after 4 space\n"
   ]
  },
  {
   "cell_type": "code",
   "execution_count": 16,
   "id": "8551e5cf-014f-4908-ba5e-8b24c9743275",
   "metadata": {},
   "outputs": [
    {
     "name": "stdout",
     "output_type": "stream",
     "text": [
      "I will not go to play\n"
     ]
    }
   ],
   "source": [
    "weather = \"rainy\"\n",
    "if weather == \"rainy\":\n",
    "    print (\"I will not go to play\")\n"
   ]
  },
  {
   "cell_type": "code",
   "execution_count": 17,
   "id": "152c5c17-a9f2-4d59-aea7-7a619e9744ab",
   "metadata": {},
   "outputs": [
    {
     "name": "stdout",
     "output_type": "stream",
     "text": [
      "it's a even number\n"
     ]
    }
   ],
   "source": [
    "number = 42\n",
    "if number %2 == 0:\n",
    "    print(\"it's a even number\")"
   ]
  },
  {
   "cell_type": "code",
   "execution_count": 19,
   "id": "a8eb3c24-07d3-4c49-9228-c1ae1b34f041",
   "metadata": {},
   "outputs": [
    {
     "name": "stdout",
     "output_type": "stream",
     "text": [
      "this is the nuber of interest\n"
     ]
    }
   ],
   "source": [
    "#In real life, decisions are made based on multiple conditions \n",
    "\n",
    "number = 42\n",
    "if ((number %2 == 0) & (number>0)):\n",
    "    print(\"this is the nuber of interest\")\n"
   ]
  },
  {
   "cell_type": "code",
   "execution_count": 25,
   "id": "32f2852f-82e5-4c06-ae7c-82a2be75709a",
   "metadata": {},
   "outputs": [
    {
     "name": "stdout",
     "output_type": "stream",
     "text": [
      "I will not play\n"
     ]
    }
   ],
   "source": [
    "weather = \"rainy\"\n",
    "if (weather == \"rainy\"):\n",
    "     print(\"I will not play\")"
   ]
  },
  {
   "cell_type": "code",
   "execution_count": 28,
   "id": "e12714c3-a02f-4bed-b09d-d7f8f7272aaa",
   "metadata": {},
   "outputs": [
    {
     "name": "stdout",
     "output_type": "stream",
     "text": [
      "your are excellent\n"
     ]
    }
   ],
   "source": [
    "grad = 8\n",
    "co_cir = True\n",
    "if( (grad>=8) & (co_cir == True) ):\n",
    "    print(\"your are excellent\")"
   ]
  },
  {
   "cell_type": "code",
   "execution_count": 29,
   "id": "ce1dd87b-435a-4b97-903c-ab5eafe1bb7d",
   "metadata": {},
   "outputs": [],
   "source": [
    "#in real life if one condition is not fulfilled, you will do something else\n",
    "#example >> if weather is not rainy , I will go to play cricket else I will wath TV"
   ]
  },
  {
   "cell_type": "code",
   "execution_count": 35,
   "id": "5811afa2-af4e-4c99-8e91-3758ad4d4ecd",
   "metadata": {},
   "outputs": [
    {
     "name": "stdout",
     "output_type": "stream",
     "text": [
      "I will watch TV\n"
     ]
    }
   ],
   "source": [
    "#If else >> execute the if block when condition is true else execute else block \n",
    "weather = \"Sunny\"\n",
    "if weather == \"rainy\":\n",
    "     print(\"I will not play cricket\")\n",
    "else:#condition is not true,else block will executed \n",
    "    print(\"I will watch TV\") "
   ]
  },
  {
   "cell_type": "code",
   "execution_count": 37,
   "id": "eb4da172-94c0-4e22-9bf5-9c0b8fc304d7",
   "metadata": {},
   "outputs": [
    {
     "name": "stdout",
     "output_type": "stream",
     "text": [
      "I will play cricket\n"
     ]
    }
   ],
   "source": [
    "weather = \"sunny\"\n",
    "if weather == \"sunny\":\n",
    "     print(\"I will play cricket\")\n",
    "else: \n",
    "    print(\"I will watch TV\") "
   ]
  },
  {
   "cell_type": "code",
   "execution_count": 41,
   "id": "c8a10cb1-5742-46ae-b864-1c0e2b77a87b",
   "metadata": {},
   "outputs": [
    {
     "name": "stdout",
     "output_type": "stream",
     "text": [
      "you will be served alcohal\n"
     ]
    }
   ],
   "source": [
    " age = 21\n",
    "if age>=18:\n",
    "        print(\"you will be served alcohal\")\n",
    "else:\n",
    "    print(\"you get out of the bar\")"
   ]
  },
  {
   "cell_type": "code",
   "execution_count": 43,
   "id": "ad0946f3-ac8e-4a57-bbe6-e9fe44acc891",
   "metadata": {},
   "outputs": [
    {
     "name": "stdout",
     "output_type": "stream",
     "text": [
      "you get out of the bar\n"
     ]
    }
   ],
   "source": [
    " age = 17\n",
    "if age>=18:\n",
    "        print(\"you will be served alcohal\")\n",
    "else:\n",
    "    print(\"you get out of the bar\")"
   ]
  },
  {
   "cell_type": "code",
   "execution_count": 44,
   "id": "a8cb2e23-964e-407f-b864-7e2db0220954",
   "metadata": {},
   "outputs": [
    {
     "name": "stdout",
     "output_type": "stream",
     "text": [
      "I am studing\n"
     ]
    }
   ],
   "source": [
    "is_dscourse = True\n",
    "if is_dscourse:\n",
    "    print(\"I am studing\")\n",
    "else:\n",
    "    print(\"I am playing cricket\")"
   ]
  },
  {
   "cell_type": "code",
   "execution_count": 46,
   "id": "c034fe6f-a00e-4d5d-95ba-24a8ee4290b0",
   "metadata": {},
   "outputs": [
    {
     "name": "stdout",
     "output_type": "stream",
     "text": [
      "x is greater than 5\n"
     ]
    }
   ],
   "source": [
    "x = 16\n",
    "if x > 5:\n",
    "    print (\"x is greater than 5\")\n",
    "else:\n",
    "    print (\"The no is less than 5\")"
   ]
  },
  {
   "cell_type": "code",
   "execution_count": 47,
   "id": "9ebd4bce-fb63-44f4-a327-9198c5f51aec",
   "metadata": {},
   "outputs": [
    {
     "data": {
      "text/plain": [
       "0"
      ]
     },
     "execution_count": 47,
     "metadata": {},
     "output_type": "execute_result"
    }
   ],
   "source": [
    "# to check if the no. is even \n",
    "6%2"
   ]
  },
  {
   "cell_type": "code",
   "execution_count": 51,
   "id": "54ad3841-44c3-4b87-800d-7907bd2cd758",
   "metadata": {},
   "outputs": [
    {
     "name": "stdout",
     "output_type": "stream",
     "text": [
      "even\n"
     ]
    }
   ],
   "source": [
    "num = 8\n",
    "if num % 2==0:\n",
    "    print(\"even\")\n",
    "else:\n",
    "    print(\"odd\")"
   ]
  },
  {
   "cell_type": "code",
   "execution_count": 52,
   "id": "b2195d92-491c-4ddd-895b-12414c8b172c",
   "metadata": {},
   "outputs": [
    {
     "name": "stdout",
     "output_type": "stream",
     "text": [
      "repeat the clss\n"
     ]
    }
   ],
   "source": [
    "score = 30\n",
    "if score>=33:\n",
    "    print(\"you are passed\")\n",
    "else:\n",
    "    print(\"repeat the clss\")"
   ]
  },
  {
   "cell_type": "code",
   "execution_count": 53,
   "id": "7151581e-68d4-45f2-aba8-216c6bf841c5",
   "metadata": {},
   "outputs": [],
   "source": [
    "#if else >> two condition\n",
    "#in real life we can have multiple condition\n",
    "#syntax\n",
    "#if some condition\n",
    "#elif some condition\n",
    "#else\n"
   ]
  },
  {
   "cell_type": "code",
   "execution_count": 54,
   "id": "4d94f92f-fedd-407d-aa0b-cbd0ba60601c",
   "metadata": {},
   "outputs": [
    {
     "name": "stdout",
     "output_type": "stream",
     "text": [
      "block will smaller then 100\n"
     ]
    }
   ],
   "source": [
    "a = 10\n",
    "if a>100:\n",
    "    print(\"block will greater then 100\")\n",
    "elif a<100:\n",
    "    print(\"block will smaller then 100\")\n",
    "else:\n",
    "    (\"block will equal to 100\")\n",
    "    "
   ]
  },
  {
   "cell_type": "code",
   "execution_count": 56,
   "id": "c00fec4e-9ce1-43d9-92de-01e45d4a846a",
   "metadata": {},
   "outputs": [
    {
     "name": "stdout",
     "output_type": "stream",
     "text": [
      "block will greater then 100\n"
     ]
    }
   ],
   "source": [
    "a = 10000\n",
    "if a>100:\n",
    "    print(\"block will greater then 100\")\n",
    "elif a<100:\n",
    "    print(\"block will smaller then 100\")\n",
    "elif a>2000:\n",
    "    print(\"number is huge\")\n",
    "else:\n",
    "    (\"block will equal to 100\")\n",
    "    "
   ]
  },
  {
   "cell_type": "code",
   "execution_count": 59,
   "id": "a1306651-1f0e-4ff8-9b2b-200ef4ed3441",
   "metadata": {},
   "outputs": [
    {
     "name": "stdout",
     "output_type": "stream",
     "text": [
      "its a huge number\n"
     ]
    }
   ],
   "source": [
    "a = 10000\n",
    "if a>2000:\n",
    "    print(\"its a huge number\") \n",
    "elif a>100:\n",
    "    print(\"block will greater then 100\")\n",
    "elif a<100:\n",
    "    print(\"block will smaller then 100\")\n",
    "else:\n",
    "    (\"block will equal to 100\")\n",
    "    "
   ]
  },
  {
   "cell_type": "code",
   "execution_count": 60,
   "id": "54ab8621-1338-4ab5-a96b-527e131897f0",
   "metadata": {},
   "outputs": [
    {
     "name": "stdout",
     "output_type": "stream",
     "text": [
      "gradeB\n"
     ]
    }
   ],
   "source": [
    "score = 80\n",
    "if score>= 90:\n",
    "    print (\"grade A\")\n",
    "elif (80<=score<90):\n",
    "    print(\"gradeB\")\n",
    "elif (70>=score<90):\n",
    "    print(\"grade C\")\n",
    "else:\n",
    "    print(\"grade D\")\n"
   ]
  },
  {
   "cell_type": "code",
   "execution_count": 62,
   "id": "482c54d3-0e0c-4581-9f67-d262eb7591c1",
   "metadata": {},
   "outputs": [
    {
     "name": "stdout",
     "output_type": "stream",
     "text": [
      "you are minority\n"
     ]
    }
   ],
   "source": [
    "Age = 30\n",
    "if age < 18:\n",
    "    print(\"you are minority\")\n",
    "elif 18<age<=65:\n",
    "    print(\"you are adult\")\n",
    "else:\n",
    "    print(\"genral\")"
   ]
  },
  {
   "cell_type": "code",
   "execution_count": 4,
   "id": "8ef7fc05-dbf8-4928-836a-537b6542a1bb",
   "metadata": {},
   "outputs": [
    {
     "name": "stdout",
     "output_type": "stream",
     "text": [
      "x is not greater then 5\n"
     ]
    }
   ],
   "source": [
    "#nested if else >>  you can have multiple if else inside if else \n",
    "x = 1\n",
    "y = 6\n",
    "if x>5:\n",
    "    if y>5:\n",
    "        print(\"both x and y is greater then 5\")\n",
    "    else: \n",
    "            print(\"x is greter the 5 and y is less then 5\")\n",
    "else:\n",
    "                print(\"x is not greater then 5\")"
   ]
  },
  {
   "cell_type": "code",
   "execution_count": 5,
   "id": "90a9d924-9d0f-43d4-bdfb-c5ee649fa9cf",
   "metadata": {},
   "outputs": [
    {
     "name": "stdout",
     "output_type": "stream",
     "text": [
      "y is greater then 5\n"
     ]
    }
   ],
   "source": [
    "x = 1\n",
    "y = 6\n",
    "if x>5:\n",
    "    if y>5:\n",
    "        print(\"both x and y is greater then 5\")\n",
    "    else: \n",
    "            print(\"x is greter the 5 and y is less then 5\")\n",
    "else:\n",
    "                print(\"y is greater then 5\")"
   ]
  },
  {
   "cell_type": "code",
   "execution_count": 6,
   "id": "dd8899d7-9d95-42ce-80c6-2172f56e8e2f",
   "metadata": {},
   "outputs": [
    {
     "name": "stdout",
     "output_type": "stream",
     "text": [
      "both x and y is greater then 5\n"
     ]
    }
   ],
   "source": [
    "x = 7\n",
    "y = 6\n",
    "if x>5:\n",
    "    if y>5:\n",
    "        print(\"both x and y is greater then 5\")\n",
    "    else: \n",
    "            print(\"x is greter the 5 and y is less then 5\")\n",
    "else:\n",
    "                print(\"y is greater then 5\")"
   ]
  },
  {
   "cell_type": "code",
   "execution_count": 7,
   "id": "4b036e16-888a-4f2d-8abc-93dd847c51ff",
   "metadata": {},
   "outputs": [
    {
     "name": "stdout",
     "output_type": "stream",
     "text": [
      "you are vip and very important you are eligible for senior citizen discount\n"
     ]
    }
   ],
   "source": [
    "vip = True\n",
    "age = 70\n",
    "if vip:\n",
    "    if age >=18:\n",
    "        if age <65:\n",
    "            print(\"welcome to vip customer\")\n",
    "        else:\n",
    "            print(\"you are vip and very important you are eligible for senior citizen discount\")\n",
    "    else: \n",
    "        print(\"vip status is onlyfor adult\")\n",
    "        "
   ]
  },
  {
   "cell_type": "code",
   "execution_count": 8,
   "id": "83d97b72-891a-4c38-b9fc-aa75ded925b4",
   "metadata": {},
   "outputs": [
    {
     "name": "stdout",
     "output_type": "stream",
     "text": [
      "vip status is onlyfor adult\n"
     ]
    }
   ],
   "source": [
    "vip = True\n",
    "age = 14\n",
    "if vip:\n",
    "    if age >=18:\n",
    "        if age <65:\n",
    "            print(\"welcome to vip customer\")\n",
    "        else:\n",
    "            print(\"you are vip and very important you are eligible for senior citizen discount\")\n",
    "    else: \n",
    "        print(\"vip status is onlyfor adult\")"
   ]
  },
  {
   "cell_type": "code",
   "execution_count": 1,
   "id": "b4e7e574-10b1-45a9-8891-4be1a9879c5e",
   "metadata": {},
   "outputs": [
    {
     "data": {
      "text/plain": [
       "5"
      ]
     },
     "execution_count": 1,
     "metadata": {},
     "output_type": "execute_result"
    }
   ],
   "source": [
    "a = 5\n",
    "a"
   ]
  },
  {
   "cell_type": "code",
   "execution_count": 3,
   "id": "7e242126-f700-4deb-b1fb-cfa6ebd1a86d",
   "metadata": {},
   "outputs": [
    {
     "name": "stdin",
     "output_type": "stream",
     "text": [
      "Enter a no 5\n"
     ]
    },
    {
     "name": "stdout",
     "output_type": "stream",
     "text": [
      "the no is  5\n"
     ]
    }
   ],
   "source": [
    "a = input(\"Enter a no\") #by default input treats everything as string \n",
    "print(\"the no is \",a)"
   ]
  },
  {
   "cell_type": "code",
   "execution_count": 6,
   "id": "1b16bfd0-1c65-429f-82c7-5f13d0c218a9",
   "metadata": {},
   "outputs": [
    {
     "name": "stdin",
     "output_type": "stream",
     "text": [
      "Enter a no 101\n"
     ]
    },
    {
     "name": "stdout",
     "output_type": "stream",
     "text": [
      "number 101\n"
     ]
    }
   ],
   "source": [
    "a = input(\"Enter a no\")\n",
    "print(\"number\",a)\n",
    "\n"
   ]
  },
  {
   "cell_type": "code",
   "execution_count": 7,
   "id": "97550de7-bebf-4c40-9bf0-3c68afacb03d",
   "metadata": {},
   "outputs": [
    {
     "name": "stdin",
     "output_type": "stream",
     "text": [
      "Enter a no 6\n"
     ]
    },
    {
     "name": "stdout",
     "output_type": "stream",
     "text": [
      "number 6\n"
     ]
    }
   ],
   "source": [
    "a = input(\"Enter a no\")\n",
    "print(\"number\",a)"
   ]
  },
  {
   "cell_type": "code",
   "execution_count": 8,
   "id": "c71cd166-f8db-4016-96e7-ad83427fa54e",
   "metadata": {},
   "outputs": [
    {
     "data": {
      "text/plain": [
       "str"
      ]
     },
     "execution_count": 8,
     "metadata": {},
     "output_type": "execute_result"
    }
   ],
   "source": [
    "type(a)"
   ]
  },
  {
   "cell_type": "code",
   "execution_count": 9,
   "id": "cc4fe050-eeca-49dd-9364-f9094d65737f",
   "metadata": {},
   "outputs": [
    {
     "name": "stdin",
     "output_type": "stream",
     "text": [
      "Enter a no 5\n"
     ]
    },
    {
     "data": {
      "text/plain": [
       "5"
      ]
     },
     "execution_count": 9,
     "metadata": {},
     "output_type": "execute_result"
    }
   ],
   "source": [
    "a = int(input(\"Enter a no\"))\n",
    "a"
   ]
  },
  {
   "cell_type": "code",
   "execution_count": 12,
   "id": "a0fad299-2d61-40ba-8937-81c48e391280",
   "metadata": {},
   "outputs": [
    {
     "name": "stdin",
     "output_type": "stream",
     "text": [
      "Enter a no -4\n"
     ]
    },
    {
     "name": "stdout",
     "output_type": "stream",
     "text": [
      "this is a negative no\n"
     ]
    }
   ],
   "source": [
    "a = int(input(\"Enter a no\"))\n",
    "if a>=100:\n",
    "    print(\"the no is greater than 100\")\n",
    "elif 0<=a<100:\n",
    "    print(\"the no is greater than 0 and less than 100\")\n",
    "else:\n",
    "    print(\"this is a negative no\")\n",
    "    \n",
    "\n",
    "\n"
   ]
  },
  {
   "cell_type": "code",
   "execution_count": 24,
   "id": "58312d16-3890-4f8d-9978-7458512e7309",
   "metadata": {},
   "outputs": [
    {
     "name": "stdin",
     "output_type": "stream",
     "text": [
      "please enter your name aalind\n",
      "please enter your email aalinf@tom\n",
      "please enter your passord aalind\n"
     ]
    },
    {
     "name": "stdout",
     "output_type": "stream",
     "text": [
      "Login/registration is sucessful\n"
     ]
    }
   ],
   "source": [
    "\n",
    "name = input(\"please enter your name\")\n",
    "email = input(\"please enter your email\")\n",
    "password = input(\"please enter your passord\")\n",
    "if name ==\"\":\n",
    "    print(\"please enter a valid name,can not be empty\")\n",
    "else:\n",
    "    if \"@\" not in email:\n",
    "        print(\"please enter a valid email\")\n",
    "    else:\n",
    "        if len(password)<0:\n",
    "            print(\"no password entered,please enter a valid password\")\n",
    "        else:\n",
    "                 print(\"Login/registration is sucessful\")\n",
    "                \n",
    "    "
   ]
  },
  {
   "cell_type": "code",
   "execution_count": 27,
   "id": "ac97fd31-8091-4644-aa31-6abda729681b",
   "metadata": {},
   "outputs": [
    {
     "name": "stdin",
     "output_type": "stream",
     "text": [
      "please enter your name aalind\n",
      "please enter your email aalind@\n",
      "please enter your passord ajay\n"
     ]
    },
    {
     "name": "stdout",
     "output_type": "stream",
     "text": [
      "no password entered,please enter a valid password\n"
     ]
    }
   ],
   "source": [
    "\n",
    "name = input(\"please enter your name\")\n",
    "email = input(\"please enter your email\")\n",
    "password = input(\"please enter your passord\")\n",
    "if name ==\"\":\n",
    "    print(\"please enter a valid name,can not be empty\")\n",
    "else:\n",
    "    if \"@\" not in email:\n",
    "        print(\"please enter a valid email\")\n",
    "    else:\n",
    "        if len(password)<5:\n",
    "            print(\"no password entered,please enter a valid password\")\n",
    "        else:\n",
    "                 print(\"Login/registration is sucessful\")\n",
    "                \n",
    "                "
   ]
  },
  {
   "cell_type": "code",
   "execution_count": 28,
   "id": "170b05c3-a99a-42d9-8657-a88eeaf499aa",
   "metadata": {},
   "outputs": [
    {
     "name": "stdin",
     "output_type": "stream",
     "text": [
      "please enter your name aalind\n",
      "please enter your email aalind@\n",
      "please enter your passord aalind\n"
     ]
    },
    {
     "name": "stdout",
     "output_type": "stream",
     "text": [
      "Login/registration is sucessful\n"
     ]
    }
   ],
   "source": [
    "name = input(\"please enter your name\")\n",
    "email = input(\"please enter your email\")\n",
    "password = input(\"please enter your passord\")\n",
    "if name ==\"\":\n",
    "    print(\"please enter a valid name,can not be empty\")\n",
    "else:\n",
    "    if ((\"@\" not in email) & (\".com\" not in email)):\n",
    "        print(\"please enter a valid email\")\n",
    "    else:\n",
    "        if len(password)<5:\n",
    "            print(\"no password entered,please enter a valid password\")\n",
    "        else:\n",
    "                 print(\"Login/registration is sucessful\")\n",
    "                "
   ]
  },
  {
   "cell_type": "code",
   "execution_count": null,
   "id": "0219dda9-61a5-4f0e-9d8a-215106c48ccc",
   "metadata": {},
   "outputs": [],
   "source": []
  }
 ],
 "metadata": {
  "kernelspec": {
   "display_name": "Python 3 (ipykernel)",
   "language": "python",
   "name": "python3"
  },
  "language_info": {
   "codemirror_mode": {
    "name": "ipython",
    "version": 3
   },
   "file_extension": ".py",
   "mimetype": "text/x-python",
   "name": "python",
   "nbconvert_exporter": "python",
   "pygments_lexer": "ipython3",
   "version": "3.10.8"
  }
 },
 "nbformat": 4,
 "nbformat_minor": 5
}
